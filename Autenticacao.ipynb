{
 "cells": [
  {
   "cell_type": "code",
   "id": "initial_id",
   "metadata": {
    "collapsed": true,
    "ExecuteTime": {
     "end_time": "2025-05-28T23:13:06.606762Z",
     "start_time": "2025-05-28T23:13:06.571337Z"
    }
   },
   "source": [
    "# config.py\n",
    "CLIENT_ID = \"6822479547529757\"\n",
    "CLIENT_SECRET = \"1STG5jmVTnKYzLGXNhLmGgeur6lPX9t6\"\n",
    "REDIRECT_URI = \"https://www.google.com\"\n",
    "\n",
    "#https://auth.mercadolivre.com.br/authorization?response_type=code&client_id=6822479547529757&state=iBGlWnIdzouxXAHyMcqt&redirect_uri=www.google.com\n",
    "\n",
    "def gerar_link_autorizacao():\n",
    "    return  f\"https://auth.mercadolivre.com.br/authorization?response_type=code&client_id={CLIENT_ID}&state=abcftrfhgh&redirect_uri={REDIRECT_URI}\"\n",
    "\n",
    "gerar_link_autorizacao()"
   ],
   "outputs": [
    {
     "data": {
      "text/plain": [
       "'https://auth.mercadolivre.com.br/authorization?response_type=code&client_id=6822479547529757&state=abcftrfhgh&redirect_uri=https://www.google.com'"
      ]
     },
     "execution_count": 1,
     "metadata": {},
     "output_type": "execute_result"
    }
   ],
   "execution_count": 1
  },
  {
   "metadata": {},
   "cell_type": "code",
   "outputs": [],
   "execution_count": null,
   "source": "#https://auth.mercadolivre.com.br/authorization?response_type=code&client_id=6822479547529757&state=abcftrfhgh&redirect_uri=https://www.google.com",
   "id": "19546dba814c9d23"
  },
  {
   "metadata": {
    "ExecuteTime": {
     "end_time": "2025-05-28T23:13:16.228948Z",
     "start_time": "2025-05-28T23:13:13.772521Z"
    }
   },
   "cell_type": "code",
   "source": [
    "import requests\n",
    "\n",
    "code = \"TG-683798620e97100001ac8b55-2280689507\"\n",
    "\n",
    "def obter_access_token(code_autorizacao):\n",
    "    url = \"https://api.mercadolibre.com/oauth/token\"\n",
    "    payload = {\n",
    "        \"grant_type\": \"authorization_code\",\n",
    "        \"client_id\": CLIENT_ID,\n",
    "        \"client_secret\": CLIENT_SECRET,\n",
    "        \"code\": code_autorizacao,\n",
    "        \"redirect_uri\": REDIRECT_URI\n",
    "    }\n",
    "    headers = {\"Content-Type\": \"application/json\"}\n",
    "    response = requests.post(url, data=payload, headers=headers)\n",
    "    response.raise_for_status()\n",
    "    return response.json()\n",
    "\n",
    "# Exemplo de uso:\n",
    "\n",
    "tokens = obter_access_token(code)\n",
    "print(\"Access Token:\", tokens[\"access_token\"])\n",
    "print(\"Refresh Token:\", tokens[\"refresh_token\"])\n"
   ],
   "id": "513f6f437c6df1d3",
   "outputs": [
    {
     "name": "stdout",
     "output_type": "stream",
     "text": [
      "Access Token: APP_USR-6822479547529757-052819-9edca5dae0b9f0d9a11d7c826bcdb493-2280689507\n",
      "Refresh Token: TG-6837988c7c130800010ccb84-2280689507\n"
     ]
    }
   ],
   "execution_count": 2
  }
 ],
 "metadata": {
  "kernelspec": {
   "display_name": "Python 3",
   "language": "python",
   "name": "python3"
  },
  "language_info": {
   "codemirror_mode": {
    "name": "ipython",
    "version": 2
   },
   "file_extension": ".py",
   "mimetype": "text/x-python",
   "name": "python",
   "nbconvert_exporter": "python",
   "pygments_lexer": "ipython2",
   "version": "2.7.6"
  }
 },
 "nbformat": 4,
 "nbformat_minor": 5
}
