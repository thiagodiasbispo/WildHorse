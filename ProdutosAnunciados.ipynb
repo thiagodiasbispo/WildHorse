{
 "cells": [
  {
   "metadata": {
    "ExecuteTime": {
     "end_time": "2025-05-16T23:45:50.875772Z",
     "start_time": "2025-05-16T23:45:04.467584Z"
    }
   },
   "cell_type": "code",
   "source": [
    "from dotenv import load_dotenv\n",
    "\n",
    "from controllers.produtos_anunciados_controller import ProdutosAnunciadosController\n",
    "\n",
    "load_dotenv()\n",
    "\n",
    "controller = ProdutosAnunciadosController()\n",
    "produtos = controller.get_produtos()\n",
    "controller.exportar_para_excel(produtos)"
   ],
   "id": "53a83c486b048d32",
   "outputs": [],
   "execution_count": 1
  },
  {
   "metadata": {
    "ExecuteTime": {
     "end_time": "2025-05-15T00:08:02.533080Z",
     "start_time": "2025-05-15T00:07:59.325733Z"
    }
   },
   "cell_type": "code",
   "source": [
    "from controllers.atributos_veiculos_controller import AtributosVeiculosController\n",
    "import pandas as pd\n",
    "\n",
    "controller_atributos = AtributosVeiculosController()\n",
    "marcas = controller_atributos.get_marcas()\n",
    "modelos = controller_atributos.get_modelos()\n",
    "\n",
    "pd.DataFrame(marcas).to_excel('marcas.xlsx', index=False)\n",
    "pd.DataFrame(modelos).to_excel('modelos.xlsx', index=False)\n",
    "\n"
   ],
   "id": "d88141c1d3291a9d",
   "outputs": [],
   "execution_count": 1
  },
  {
   "metadata": {
    "ExecuteTime": {
     "end_time": "2025-05-14T20:47:05.149083Z",
     "start_time": "2025-05-14T20:47:04.167177Z"
    }
   },
   "cell_type": "code",
   "source": "controller_atributos.get_modelos(marcas[0][\"value_id\"])",
   "id": "6febca811475dbf2",
   "outputs": [
    {
     "ename": "HTTPError",
     "evalue": "404 Client Error: Not Found for url: https://api.mercadolibre.com/categories/MLB1747/attributes/MODEL/values?brand_id=2253232",
     "output_type": "error",
     "traceback": [
      "\u001B[31m---------------------------------------------------------------------------\u001B[39m",
      "\u001B[31mHTTPError\u001B[39m                                 Traceback (most recent call last)",
      "\u001B[36mCell\u001B[39m\u001B[36m \u001B[39m\u001B[32mIn[2]\u001B[39m\u001B[32m, line 1\u001B[39m\n\u001B[32m----> \u001B[39m\u001B[32m1\u001B[39m \u001B[43mcontroller_atributos\u001B[49m\u001B[43m.\u001B[49m\u001B[43mget_modelos\u001B[49m\u001B[43m(\u001B[49m\u001B[43mmarcas\u001B[49m\u001B[43m[\u001B[49m\u001B[32;43m0\u001B[39;49m\u001B[43m]\u001B[49m\u001B[43m[\u001B[49m\u001B[33;43m\"\u001B[39;49m\u001B[33;43mvalue_id\u001B[39;49m\u001B[33;43m\"\u001B[39;49m\u001B[43m]\u001B[49m\u001B[43m)\u001B[49m\n",
      "\u001B[36mFile \u001B[39m\u001B[32mD:\\Projetos\\Carlos_WildHorse\\controllers\\atributos_veiculos_controller.py:24\u001B[39m, in \u001B[36mAtributosVeiculosController.get_modelos\u001B[39m\u001B[34m(self, marca_id)\u001B[39m\n\u001B[32m     22\u001B[39m \u001B[38;5;28;01mdef\u001B[39;00m\u001B[38;5;250m \u001B[39m\u001B[34mget_modelos\u001B[39m(\u001B[38;5;28mself\u001B[39m, marca_id):\n\u001B[32m     23\u001B[39m     endpoint = \u001B[33mf\u001B[39m\u001B[33m\"\u001B[39m\u001B[33m/categories/MLB1747/attributes/MODEL/values?brand_id=\u001B[39m\u001B[38;5;132;01m{\u001B[39;00mmarca_id\u001B[38;5;132;01m}\u001B[39;00m\u001B[33m\"\u001B[39m\n\u001B[32m---> \u001B[39m\u001B[32m24\u001B[39m     response = \u001B[38;5;28;43mself\u001B[39;49m\u001B[43m.\u001B[49m\u001B[43mservice\u001B[49m\u001B[43m.\u001B[49m\u001B[43mget\u001B[49m\u001B[43m(\u001B[49m\u001B[43mendpoint\u001B[49m\u001B[43m)\u001B[49m\n\u001B[32m     25\u001B[39m     \u001B[38;5;28;01mreturn\u001B[39;00m response.get(\u001B[33m\"\u001B[39m\u001B[33mvalues\u001B[39m\u001B[33m\"\u001B[39m, [])\n",
      "\u001B[36mFile \u001B[39m\u001B[32mD:\\Projetos\\Carlos_WildHorse\\services\\mercadolivre_service.py:25\u001B[39m, in \u001B[36mMercadoLivreService.get\u001B[39m\u001B[34m(self, endpoint)\u001B[39m\n\u001B[32m     23\u001B[39m \u001B[38;5;28;01mdef\u001B[39;00m\u001B[38;5;250m \u001B[39m\u001B[34mget\u001B[39m(\u001B[38;5;28mself\u001B[39m, endpoint):\n\u001B[32m     24\u001B[39m     response = requests.get(\u001B[33mf\u001B[39m\u001B[33m\"\u001B[39m\u001B[38;5;132;01m{\u001B[39;00m\u001B[38;5;28mself\u001B[39m.base_url\u001B[38;5;132;01m}\u001B[39;00m\u001B[38;5;132;01m{\u001B[39;00mendpoint\u001B[38;5;132;01m}\u001B[39;00m\u001B[33m\"\u001B[39m, headers=\u001B[38;5;28mself\u001B[39m.get_headers())\n\u001B[32m---> \u001B[39m\u001B[32m25\u001B[39m     \u001B[43mresponse\u001B[49m\u001B[43m.\u001B[49m\u001B[43mraise_for_status\u001B[49m\u001B[43m(\u001B[49m\u001B[43m)\u001B[49m\n\u001B[32m     26\u001B[39m     \u001B[38;5;28;01mreturn\u001B[39;00m response.json()\n",
      "\u001B[36mFile \u001B[39m\u001B[32mD:\\Projetos\\Carlos_WildHorse\\.venv\\Lib\\site-packages\\requests\\models.py:1024\u001B[39m, in \u001B[36mResponse.raise_for_status\u001B[39m\u001B[34m(self)\u001B[39m\n\u001B[32m   1019\u001B[39m     http_error_msg = (\n\u001B[32m   1020\u001B[39m         \u001B[33mf\u001B[39m\u001B[33m\"\u001B[39m\u001B[38;5;132;01m{\u001B[39;00m\u001B[38;5;28mself\u001B[39m.status_code\u001B[38;5;132;01m}\u001B[39;00m\u001B[33m Server Error: \u001B[39m\u001B[38;5;132;01m{\u001B[39;00mreason\u001B[38;5;132;01m}\u001B[39;00m\u001B[33m for url: \u001B[39m\u001B[38;5;132;01m{\u001B[39;00m\u001B[38;5;28mself\u001B[39m.url\u001B[38;5;132;01m}\u001B[39;00m\u001B[33m\"\u001B[39m\n\u001B[32m   1021\u001B[39m     )\n\u001B[32m   1023\u001B[39m \u001B[38;5;28;01mif\u001B[39;00m http_error_msg:\n\u001B[32m-> \u001B[39m\u001B[32m1024\u001B[39m     \u001B[38;5;28;01mraise\u001B[39;00m HTTPError(http_error_msg, response=\u001B[38;5;28mself\u001B[39m)\n",
      "\u001B[31mHTTPError\u001B[39m: 404 Client Error: Not Found for url: https://api.mercadolibre.com/categories/MLB1747/attributes/MODEL/values?brand_id=2253232"
     ]
    }
   ],
   "execution_count": 2
  }
 ],
 "metadata": {
  "kernelspec": {
   "display_name": "Python 3",
   "language": "python",
   "name": "python3"
  },
  "language_info": {
   "codemirror_mode": {
    "name": "ipython",
    "version": 2
   },
   "file_extension": ".py",
   "mimetype": "text/x-python",
   "name": "python",
   "nbconvert_exporter": "python",
   "pygments_lexer": "ipython2",
   "version": "2.7.6"
  }
 },
 "nbformat": 4,
 "nbformat_minor": 5
}
